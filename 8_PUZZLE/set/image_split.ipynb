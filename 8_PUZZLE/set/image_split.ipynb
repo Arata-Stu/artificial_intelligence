{
 "cells": [
  {
   "cell_type": "code",
   "execution_count": null,
   "id": "842691f5-e1e8-4b35-8a4e-8f15801c75ef",
   "metadata": {},
   "outputs": [],
   "source": []
  },
  {
   "cell_type": "code",
   "execution_count": 4,
   "id": "13fea7c6-f373-4326-bc68-a6289fef436a",
   "metadata": {},
   "outputs": [],
   "source": [
    "from PIL import Image\n",
    "\n",
    "def crop_to_square(image_path):\n",
    "    \"\"\"\n",
    "    与えられた画像を読み込み、正方形にトリミングします。\n",
    "    \"\"\"\n",
    "    with Image.open(image_path) as img:\n",
    "        width, height = img.size\n",
    "        new_size = min(width, height)\n",
    "        left = (width - new_size)/2\n",
    "        top = (height - new_size)/2\n",
    "        right = (width + new_size)/2\n",
    "        bottom = (height + new_size)/2\n",
    "        img_cropped = img.crop((left, top, right, bottom))\n",
    "        return img_cropped\n",
    "\n",
    "def split_image(image_path, output_folder):\n",
    "    \"\"\"\n",
    "    画像を読み込み、正方形にトリミングし、9つに分割します。\n",
    "    分割された画像は指定されたフォルダに保存されます。\n",
    "    \"\"\"\n",
    "    img_cropped = crop_to_square(image_path)\n",
    "    width, height = img_cropped.size\n",
    "    tile_size = width // 3\n",
    "\n",
    "    for i in range(3):\n",
    "        for j in range(3):\n",
    "            left = j * tile_size\n",
    "            top = i * tile_size\n",
    "            right = left + tile_size\n",
    "            bottom = top + tile_size\n",
    "            img_tile = img_cropped.crop((left, top, right, bottom))\n",
    "            img_tile.save(f\"{output_folder}/tile_{i}_{j}.jpg\")\n",
    "\n",
    "# 例として、'path/to/your/image.jpg'の画像を正方形にトリミングし、9つに分割して、'output_folder'に保存します。\n",
    "# split_image('path/to/your/image.jpg', 'output_folder')\n"
   ]
  },
  {
   "cell_type": "code",
   "execution_count": 5,
   "id": "ec31888b-dbd0-4e26-8c49-5b9b712a6194",
   "metadata": {},
   "outputs": [],
   "source": [
    "PATH = 'sample.jpg'\n",
    "Folder = 'image'\n",
    "split_image(PATH,Folder)"
   ]
  },
  {
   "cell_type": "code",
   "execution_count": null,
   "id": "c01dc7c2-1630-4867-bd68-aff3d9a62df0",
   "metadata": {},
   "outputs": [],
   "source": []
  }
 ],
 "metadata": {
  "kernelspec": {
   "display_name": "Python 3 (ipykernel)",
   "language": "python",
   "name": "python3"
  },
  "language_info": {
   "codemirror_mode": {
    "name": "ipython",
    "version": 3
   },
   "file_extension": ".py",
   "mimetype": "text/x-python",
   "name": "python",
   "nbconvert_exporter": "python",
   "pygments_lexer": "ipython3",
   "version": "3.11.2"
  }
 },
 "nbformat": 4,
 "nbformat_minor": 5
}
